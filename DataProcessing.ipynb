{
 "cells": [
  {
   "cell_type": "code",
   "execution_count": 17,
   "metadata": {},
   "outputs": [],
   "source": [
    "import pandas as pd\n",
    "import os\n",
    "import matplotlib.pyplot as plt"
   ]
  },
  {
   "cell_type": "code",
   "execution_count": 2,
   "metadata": {},
   "outputs": [],
   "source": [
    "PATH = \"../RadarTrafficData_files/Radar_Traffic_Counts.csv\""
   ]
  },
  {
   "cell_type": "code",
   "execution_count": 13,
   "metadata": {},
   "outputs": [],
   "source": [
    "dataframe = pd.read_csv(PATH, parse_dates=[[3,4,5,9]])"
   ]
  },
  {
   "cell_type": "code",
   "execution_count": 4,
   "metadata": {
    "collapsed": false,
    "jupyter": {
     "outputs_hidden": false
    },
    "pycharm": {
     "name": "#%%\n"
    }
   },
   "outputs": [
    {
     "data": {
      "text/html": [
       "<div>\n",
       "<style scoped>\n",
       "    .dataframe tbody tr th:only-of-type {\n",
       "        vertical-align: middle;\n",
       "    }\n",
       "\n",
       "    .dataframe tbody tr th {\n",
       "        vertical-align: top;\n",
       "    }\n",
       "\n",
       "    .dataframe thead th {\n",
       "        text-align: right;\n",
       "    }\n",
       "</style>\n",
       "<table border=\"1\" class=\"dataframe\">\n",
       "  <thead>\n",
       "    <tr style=\"text-align: right;\">\n",
       "      <th></th>\n",
       "      <th>Year_Month_Day_Time Bin</th>\n",
       "      <th>location_name</th>\n",
       "      <th>location_latitude</th>\n",
       "      <th>location_longitude</th>\n",
       "      <th>Day of Week</th>\n",
       "      <th>Hour</th>\n",
       "      <th>Minute</th>\n",
       "      <th>Direction</th>\n",
       "      <th>Volume</th>\n",
       "    </tr>\n",
       "  </thead>\n",
       "  <tbody>\n",
       "    <tr>\n",
       "      <th>0</th>\n",
       "      <td>2018-01-23 22:15:00</td>\n",
       "      <td>2021 BLK KINNEY AVE (NW 300ft NW of Lamar)</td>\n",
       "      <td>30.248691</td>\n",
       "      <td>-97.770409</td>\n",
       "      <td>2</td>\n",
       "      <td>22</td>\n",
       "      <td>15</td>\n",
       "      <td>None</td>\n",
       "      <td>4</td>\n",
       "    </tr>\n",
       "    <tr>\n",
       "      <th>1</th>\n",
       "      <td>2017-12-16 19:45:00</td>\n",
       "      <td>CAPITAL OF TEXAS HWY / LAKEWOOD DR</td>\n",
       "      <td>30.371674</td>\n",
       "      <td>-97.785660</td>\n",
       "      <td>6</td>\n",
       "      <td>19</td>\n",
       "      <td>45</td>\n",
       "      <td>NB</td>\n",
       "      <td>103</td>\n",
       "    </tr>\n",
       "    <tr>\n",
       "      <th>2</th>\n",
       "      <td>2018-01-23 21:45:00</td>\n",
       "      <td>400 BLK AZIE MORTON RD (South of Barton Spring...</td>\n",
       "      <td>30.264245</td>\n",
       "      <td>-97.765802</td>\n",
       "      <td>2</td>\n",
       "      <td>21</td>\n",
       "      <td>45</td>\n",
       "      <td>SB</td>\n",
       "      <td>44</td>\n",
       "    </tr>\n",
       "    <tr>\n",
       "      <th>3</th>\n",
       "      <td>2018-01-23 21:45:00</td>\n",
       "      <td>400 BLK AZIE MORTON RD (South of Barton Spring...</td>\n",
       "      <td>30.264245</td>\n",
       "      <td>-97.765802</td>\n",
       "      <td>2</td>\n",
       "      <td>21</td>\n",
       "      <td>45</td>\n",
       "      <td>NB</td>\n",
       "      <td>13</td>\n",
       "    </tr>\n",
       "    <tr>\n",
       "      <th>4</th>\n",
       "      <td>2018-01-23 22:15:00</td>\n",
       "      <td>2021 BLK KINNEY AVE (NW 300ft NW of Lamar)</td>\n",
       "      <td>30.248691</td>\n",
       "      <td>-97.770409</td>\n",
       "      <td>2</td>\n",
       "      <td>22</td>\n",
       "      <td>15</td>\n",
       "      <td>None</td>\n",
       "      <td>0</td>\n",
       "    </tr>\n",
       "    <tr>\n",
       "      <th>...</th>\n",
       "      <td>...</td>\n",
       "      <td>...</td>\n",
       "      <td>...</td>\n",
       "      <td>...</td>\n",
       "      <td>...</td>\n",
       "      <td>...</td>\n",
       "      <td>...</td>\n",
       "      <td>...</td>\n",
       "      <td>...</td>\n",
       "    </tr>\n",
       "    <tr>\n",
       "      <th>4603856</th>\n",
       "      <td>2019-07-27 02:30:00</td>\n",
       "      <td>LAMAR BLVD / MANCHACA RD</td>\n",
       "      <td>30.243875</td>\n",
       "      <td>-97.781705</td>\n",
       "      <td>6</td>\n",
       "      <td>2</td>\n",
       "      <td>30</td>\n",
       "      <td>NB</td>\n",
       "      <td>12</td>\n",
       "    </tr>\n",
       "    <tr>\n",
       "      <th>4603857</th>\n",
       "      <td>2019-05-29 22:00:00</td>\n",
       "      <td>LAMAR BLVD / MANCHACA RD</td>\n",
       "      <td>30.243875</td>\n",
       "      <td>-97.781705</td>\n",
       "      <td>3</td>\n",
       "      <td>22</td>\n",
       "      <td>0</td>\n",
       "      <td>SB</td>\n",
       "      <td>58</td>\n",
       "    </tr>\n",
       "    <tr>\n",
       "      <th>4603858</th>\n",
       "      <td>2019-08-06 02:30:00</td>\n",
       "      <td>LAMAR BLVD / MANCHACA RD</td>\n",
       "      <td>30.243875</td>\n",
       "      <td>-97.781705</td>\n",
       "      <td>2</td>\n",
       "      <td>2</td>\n",
       "      <td>30</td>\n",
       "      <td>SB</td>\n",
       "      <td>5</td>\n",
       "    </tr>\n",
       "    <tr>\n",
       "      <th>4603859</th>\n",
       "      <td>2019-09-26 10:00:00</td>\n",
       "      <td>CAPITAL OF TEXAS HWY / CEDAR ST</td>\n",
       "      <td>30.339468</td>\n",
       "      <td>-97.803558</td>\n",
       "      <td>4</td>\n",
       "      <td>10</td>\n",
       "      <td>0</td>\n",
       "      <td>SB</td>\n",
       "      <td>16</td>\n",
       "    </tr>\n",
       "    <tr>\n",
       "      <th>4603860</th>\n",
       "      <td>2019-07-01 08:00:00</td>\n",
       "      <td>LAMAR BLVD / SANDRA MURAIDA WAY (Lamar Bridge)</td>\n",
       "      <td>30.266800</td>\n",
       "      <td>-97.756051</td>\n",
       "      <td>1</td>\n",
       "      <td>8</td>\n",
       "      <td>0</td>\n",
       "      <td>SB</td>\n",
       "      <td>88</td>\n",
       "    </tr>\n",
       "  </tbody>\n",
       "</table>\n",
       "<p>4603861 rows × 9 columns</p>\n",
       "</div>"
      ],
      "text/plain": [
       "        Year_Month_Day_Time Bin  \\\n",
       "0           2018-01-23 22:15:00   \n",
       "1           2017-12-16 19:45:00   \n",
       "2           2018-01-23 21:45:00   \n",
       "3           2018-01-23 21:45:00   \n",
       "4           2018-01-23 22:15:00   \n",
       "...                         ...   \n",
       "4603856     2019-07-27 02:30:00   \n",
       "4603857     2019-05-29 22:00:00   \n",
       "4603858     2019-08-06 02:30:00   \n",
       "4603859     2019-09-26 10:00:00   \n",
       "4603860     2019-07-01 08:00:00   \n",
       "\n",
       "                                             location_name  location_latitude  \\\n",
       "0               2021 BLK KINNEY AVE (NW 300ft NW of Lamar)          30.248691   \n",
       "1                       CAPITAL OF TEXAS HWY / LAKEWOOD DR          30.371674   \n",
       "2        400 BLK AZIE MORTON RD (South of Barton Spring...          30.264245   \n",
       "3        400 BLK AZIE MORTON RD (South of Barton Spring...          30.264245   \n",
       "4               2021 BLK KINNEY AVE (NW 300ft NW of Lamar)          30.248691   \n",
       "...                                                    ...                ...   \n",
       "4603856                           LAMAR BLVD / MANCHACA RD          30.243875   \n",
       "4603857                           LAMAR BLVD / MANCHACA RD          30.243875   \n",
       "4603858                           LAMAR BLVD / MANCHACA RD          30.243875   \n",
       "4603859                    CAPITAL OF TEXAS HWY / CEDAR ST          30.339468   \n",
       "4603860     LAMAR BLVD / SANDRA MURAIDA WAY (Lamar Bridge)          30.266800   \n",
       "\n",
       "         location_longitude  Day of Week  Hour  Minute Direction  Volume  \n",
       "0                -97.770409            2    22      15      None       4  \n",
       "1                -97.785660            6    19      45        NB     103  \n",
       "2                -97.765802            2    21      45        SB      44  \n",
       "3                -97.765802            2    21      45        NB      13  \n",
       "4                -97.770409            2    22      15      None       0  \n",
       "...                     ...          ...   ...     ...       ...     ...  \n",
       "4603856          -97.781705            6     2      30        NB      12  \n",
       "4603857          -97.781705            3    22       0        SB      58  \n",
       "4603858          -97.781705            2     2      30        SB       5  \n",
       "4603859          -97.803558            4    10       0        SB      16  \n",
       "4603860          -97.756051            1     8       0        SB      88  \n",
       "\n",
       "[4603861 rows x 9 columns]"
      ]
     },
     "execution_count": 4,
     "metadata": {},
     "output_type": "execute_result"
    }
   ],
   "source": [
    "dataframe"
   ]
  },
  {
   "cell_type": "code",
   "execution_count": 14,
   "metadata": {
    "collapsed": false,
    "jupyter": {
     "outputs_hidden": false
    },
    "pycharm": {
     "name": "#%%\n"
    }
   },
   "outputs": [],
   "source": [
    "dataframe = dataframe.rename(columns={\"Year_Month_Day_Time Bin\":\"fulldate\"})"
   ]
  },
  {
   "cell_type": "code",
   "execution_count": 15,
   "metadata": {
    "collapsed": false,
    "jupyter": {
     "outputs_hidden": false
    },
    "pycharm": {
     "name": "#%%\n"
    }
   },
   "outputs": [
    {
     "data": {
      "text/html": [
       "<div>\n",
       "<style scoped>\n",
       "    .dataframe tbody tr th:only-of-type {\n",
       "        vertical-align: middle;\n",
       "    }\n",
       "\n",
       "    .dataframe tbody tr th {\n",
       "        vertical-align: top;\n",
       "    }\n",
       "\n",
       "    .dataframe thead th {\n",
       "        text-align: right;\n",
       "    }\n",
       "</style>\n",
       "<table border=\"1\" class=\"dataframe\">\n",
       "  <thead>\n",
       "    <tr style=\"text-align: right;\">\n",
       "      <th></th>\n",
       "      <th>fulldate</th>\n",
       "      <th>location_name</th>\n",
       "      <th>location_latitude</th>\n",
       "      <th>location_longitude</th>\n",
       "      <th>Day of Week</th>\n",
       "      <th>Hour</th>\n",
       "      <th>Minute</th>\n",
       "      <th>Direction</th>\n",
       "      <th>Volume</th>\n",
       "    </tr>\n",
       "  </thead>\n",
       "  <tbody>\n",
       "    <tr>\n",
       "      <th>0</th>\n",
       "      <td>2018-01-23 22:15:00</td>\n",
       "      <td>2021 BLK KINNEY AVE (NW 300ft NW of Lamar)</td>\n",
       "      <td>30.248691</td>\n",
       "      <td>-97.770409</td>\n",
       "      <td>2</td>\n",
       "      <td>22</td>\n",
       "      <td>15</td>\n",
       "      <td>None</td>\n",
       "      <td>4</td>\n",
       "    </tr>\n",
       "    <tr>\n",
       "      <th>1</th>\n",
       "      <td>2017-12-16 19:45:00</td>\n",
       "      <td>CAPITAL OF TEXAS HWY / LAKEWOOD DR</td>\n",
       "      <td>30.371674</td>\n",
       "      <td>-97.785660</td>\n",
       "      <td>6</td>\n",
       "      <td>19</td>\n",
       "      <td>45</td>\n",
       "      <td>NB</td>\n",
       "      <td>103</td>\n",
       "    </tr>\n",
       "    <tr>\n",
       "      <th>2</th>\n",
       "      <td>2018-01-23 21:45:00</td>\n",
       "      <td>400 BLK AZIE MORTON RD (South of Barton Spring...</td>\n",
       "      <td>30.264245</td>\n",
       "      <td>-97.765802</td>\n",
       "      <td>2</td>\n",
       "      <td>21</td>\n",
       "      <td>45</td>\n",
       "      <td>SB</td>\n",
       "      <td>44</td>\n",
       "    </tr>\n",
       "    <tr>\n",
       "      <th>3</th>\n",
       "      <td>2018-01-23 21:45:00</td>\n",
       "      <td>400 BLK AZIE MORTON RD (South of Barton Spring...</td>\n",
       "      <td>30.264245</td>\n",
       "      <td>-97.765802</td>\n",
       "      <td>2</td>\n",
       "      <td>21</td>\n",
       "      <td>45</td>\n",
       "      <td>NB</td>\n",
       "      <td>13</td>\n",
       "    </tr>\n",
       "    <tr>\n",
       "      <th>4</th>\n",
       "      <td>2018-01-23 22:15:00</td>\n",
       "      <td>2021 BLK KINNEY AVE (NW 300ft NW of Lamar)</td>\n",
       "      <td>30.248691</td>\n",
       "      <td>-97.770409</td>\n",
       "      <td>2</td>\n",
       "      <td>22</td>\n",
       "      <td>15</td>\n",
       "      <td>None</td>\n",
       "      <td>0</td>\n",
       "    </tr>\n",
       "    <tr>\n",
       "      <th>...</th>\n",
       "      <td>...</td>\n",
       "      <td>...</td>\n",
       "      <td>...</td>\n",
       "      <td>...</td>\n",
       "      <td>...</td>\n",
       "      <td>...</td>\n",
       "      <td>...</td>\n",
       "      <td>...</td>\n",
       "      <td>...</td>\n",
       "    </tr>\n",
       "    <tr>\n",
       "      <th>4603856</th>\n",
       "      <td>2019-07-27 02:30:00</td>\n",
       "      <td>LAMAR BLVD / MANCHACA RD</td>\n",
       "      <td>30.243875</td>\n",
       "      <td>-97.781705</td>\n",
       "      <td>6</td>\n",
       "      <td>2</td>\n",
       "      <td>30</td>\n",
       "      <td>NB</td>\n",
       "      <td>12</td>\n",
       "    </tr>\n",
       "    <tr>\n",
       "      <th>4603857</th>\n",
       "      <td>2019-05-29 22:00:00</td>\n",
       "      <td>LAMAR BLVD / MANCHACA RD</td>\n",
       "      <td>30.243875</td>\n",
       "      <td>-97.781705</td>\n",
       "      <td>3</td>\n",
       "      <td>22</td>\n",
       "      <td>0</td>\n",
       "      <td>SB</td>\n",
       "      <td>58</td>\n",
       "    </tr>\n",
       "    <tr>\n",
       "      <th>4603858</th>\n",
       "      <td>2019-08-06 02:30:00</td>\n",
       "      <td>LAMAR BLVD / MANCHACA RD</td>\n",
       "      <td>30.243875</td>\n",
       "      <td>-97.781705</td>\n",
       "      <td>2</td>\n",
       "      <td>2</td>\n",
       "      <td>30</td>\n",
       "      <td>SB</td>\n",
       "      <td>5</td>\n",
       "    </tr>\n",
       "    <tr>\n",
       "      <th>4603859</th>\n",
       "      <td>2019-09-26 10:00:00</td>\n",
       "      <td>CAPITAL OF TEXAS HWY / CEDAR ST</td>\n",
       "      <td>30.339468</td>\n",
       "      <td>-97.803558</td>\n",
       "      <td>4</td>\n",
       "      <td>10</td>\n",
       "      <td>0</td>\n",
       "      <td>SB</td>\n",
       "      <td>16</td>\n",
       "    </tr>\n",
       "    <tr>\n",
       "      <th>4603860</th>\n",
       "      <td>2019-07-01 08:00:00</td>\n",
       "      <td>LAMAR BLVD / SANDRA MURAIDA WAY (Lamar Bridge)</td>\n",
       "      <td>30.266800</td>\n",
       "      <td>-97.756051</td>\n",
       "      <td>1</td>\n",
       "      <td>8</td>\n",
       "      <td>0</td>\n",
       "      <td>SB</td>\n",
       "      <td>88</td>\n",
       "    </tr>\n",
       "  </tbody>\n",
       "</table>\n",
       "<p>4603861 rows × 9 columns</p>\n",
       "</div>"
      ],
      "text/plain": [
       "                   fulldate  \\\n",
       "0       2018-01-23 22:15:00   \n",
       "1       2017-12-16 19:45:00   \n",
       "2       2018-01-23 21:45:00   \n",
       "3       2018-01-23 21:45:00   \n",
       "4       2018-01-23 22:15:00   \n",
       "...                     ...   \n",
       "4603856 2019-07-27 02:30:00   \n",
       "4603857 2019-05-29 22:00:00   \n",
       "4603858 2019-08-06 02:30:00   \n",
       "4603859 2019-09-26 10:00:00   \n",
       "4603860 2019-07-01 08:00:00   \n",
       "\n",
       "                                             location_name  location_latitude  \\\n",
       "0               2021 BLK KINNEY AVE (NW 300ft NW of Lamar)          30.248691   \n",
       "1                       CAPITAL OF TEXAS HWY / LAKEWOOD DR          30.371674   \n",
       "2        400 BLK AZIE MORTON RD (South of Barton Spring...          30.264245   \n",
       "3        400 BLK AZIE MORTON RD (South of Barton Spring...          30.264245   \n",
       "4               2021 BLK KINNEY AVE (NW 300ft NW of Lamar)          30.248691   \n",
       "...                                                    ...                ...   \n",
       "4603856                           LAMAR BLVD / MANCHACA RD          30.243875   \n",
       "4603857                           LAMAR BLVD / MANCHACA RD          30.243875   \n",
       "4603858                           LAMAR BLVD / MANCHACA RD          30.243875   \n",
       "4603859                    CAPITAL OF TEXAS HWY / CEDAR ST          30.339468   \n",
       "4603860     LAMAR BLVD / SANDRA MURAIDA WAY (Lamar Bridge)          30.266800   \n",
       "\n",
       "         location_longitude  Day of Week  Hour  Minute Direction  Volume  \n",
       "0                -97.770409            2    22      15      None       4  \n",
       "1                -97.785660            6    19      45        NB     103  \n",
       "2                -97.765802            2    21      45        SB      44  \n",
       "3                -97.765802            2    21      45        NB      13  \n",
       "4                -97.770409            2    22      15      None       0  \n",
       "...                     ...          ...   ...     ...       ...     ...  \n",
       "4603856          -97.781705            6     2      30        NB      12  \n",
       "4603857          -97.781705            3    22       0        SB      58  \n",
       "4603858          -97.781705            2     2      30        SB       5  \n",
       "4603859          -97.803558            4    10       0        SB      16  \n",
       "4603860          -97.756051            1     8       0        SB      88  \n",
       "\n",
       "[4603861 rows x 9 columns]"
      ]
     },
     "execution_count": 15,
     "metadata": {},
     "output_type": "execute_result"
    }
   ],
   "source": [
    "dataframe"
   ]
  },
  {
   "cell_type": "code",
   "execution_count": 20,
   "metadata": {
    "collapsed": false,
    "jupyter": {
     "outputs_hidden": false
    },
    "pycharm": {
     "name": "#%%\n"
    }
   },
   "outputs": [],
   "source": [
    "RADAR = \"2021 BLK KINNEY AVE (NW 300ft NW of Lamar)\"\n",
    "df_by_radar = dataframe[dataframe[\"location_name\"]==RADAR]\n"
   ]
  },
  {
   "cell_type": "code",
   "execution_count": 23,
   "metadata": {
    "collapsed": false,
    "jupyter": {
     "outputs_hidden": false
    },
    "pycharm": {
     "name": "#%%\n"
    }
   },
   "outputs": [
    {
     "data": {
      "image/png": "[encoded data removed]",
      "text/plain": [
       "<Figure size 432x288 with 1 Axes>"
      ]
     },
     "metadata": {
      "needs_background": "light"
     },
     "output_type": "display_data"
    }
   ],
   "source": [
    "plt.plot( \"fulldate\", \"Volume\", data = df_by_radar)\n",
    "\n",
    "plt.xticks(rotation=30)\n",
    "\n",
    "plt.show()"
   ]
  },
  {
   "cell_type": "markdown",
   "metadata": {
    "jupyter": {
     "outputs_hidden": false
    },
    "pycharm": {
     "name": "#%%\n"
    }
   },
   "source": [
    "# TODO: \n",
    "Préparer un dataset avec un radar et une direction donnée dans le but de faire des prédictions pour une semaine\n",
    "Et remplir dans le drive chaque colonne et ce qu'elle fait"
   ]
  },
  {
   "cell_type": "code",
   "execution_count": null,
   "metadata": {
    "collapsed": false,
    "jupyter": {
     "outputs_hidden": false
    },
    "pycharm": {
     "name": "#%%\n"
    }
   },
   "outputs": [],
   "source": []
  },
  {
   "cell_type": "code",
   "execution_count": null,
   "metadata": {
    "collapsed": false,
    "jupyter": {
     "outputs_hidden": false
    },
    "pycharm": {
     "name": "#%%\n"
    }
   },
   "outputs": [],
   "source": []
  },
  {
   "cell_type": "code",
   "execution_count": null,
   "metadata": {
    "collapsed": false,
    "jupyter": {
     "outputs_hidden": false
    },
    "pycharm": {
     "name": "#%%\n"
    }
   },
   "outputs": [],
   "source": []
  },
  {
   "cell_type": "code",
   "execution_count": null,
   "metadata": {
    "collapsed": false,
    "jupyter": {
     "outputs_hidden": false
    },
    "pycharm": {
     "name": "#%%\n"
    }
   },
   "outputs": [],
   "source": []
  },
  {
   "cell_type": "code",
   "execution_count": null,
   "metadata": {
    "collapsed": false,
    "jupyter": {
     "outputs_hidden": false
    },
    "pycharm": {
     "name": "#%%\n"
    }
   },
   "outputs": [],
   "source": []
  },
  {
   "cell_type": "code",
   "execution_count": null,
   "metadata": {},
   "outputs": [],
   "source": []
  },
  {
   "cell_type": "code",
   "execution_count": null,
   "metadata": {},
   "outputs": [],
   "source": []
  }
 ],
 "metadata": {
  "kernelspec": {
   "display_name": "dl_env",
   "language": "python",
   "name": "dl_env"
  },
  "language_info": {
   "codemirror_mode": {
    "name": "ipython",
    "version": 3
   },
   "file_extension": ".py",
   "mimetype": "text/x-python",
   "name": "python",
   "nbconvert_exporter": "python",
   "pygments_lexer": "ipython3",
   "version": "3.7.9"
  }
 },
 "nbformat": 4,
 "nbformat_minor": 4
}
