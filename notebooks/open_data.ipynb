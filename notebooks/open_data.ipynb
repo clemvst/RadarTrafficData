{
 "cells": [
  {
   "cell_type": "markdown",
   "metadata": {},
   "source": [
    "# Open and visualize the data"
   ]
  },
  {
   "cell_type": "code",
   "execution_count": 1,
   "metadata": {},
   "outputs": [],
   "source": [
    "import pandas as pd\n",
    "import datetime"
   ]
  },
  {
   "cell_type": "code",
   "execution_count": 40,
   "metadata": {},
   "outputs": [],
   "source": []
  },
  {
   "cell_type": "code",
   "execution_count": 4,
   "metadata": {},
   "outputs": [],
   "source": [
    "PATH_CSV=\"/Users/iris/Documents/radar_deep/Radar_Traffic_Counts.csv\""
   ]
  },
  {
   "cell_type": "code",
   "execution_count": 59,
   "metadata": {},
   "outputs": [],
   "source": [
    "df=pd.read_csv(PATH_CSV)"
   ]
  },
  {
   "cell_type": "code",
   "execution_count": 60,
   "metadata": {},
   "outputs": [
    {
     "data": {
      "text/html": [
       "<div>\n",
       "<style scoped>\n",
       "    .dataframe tbody tr th:only-of-type {\n",
       "        vertical-align: middle;\n",
       "    }\n",
       "\n",
       "    .dataframe tbody tr th {\n",
       "        vertical-align: top;\n",
       "    }\n",
       "\n",
       "    .dataframe thead th {\n",
       "        text-align: right;\n",
       "    }\n",
       "</style>\n",
       "<table border=\"1\" class=\"dataframe\">\n",
       "  <thead>\n",
       "    <tr style=\"text-align: right;\">\n",
       "      <th></th>\n",
       "      <th>location_name</th>\n",
       "      <th>location_latitude</th>\n",
       "      <th>location_longitude</th>\n",
       "      <th>Year</th>\n",
       "      <th>Month</th>\n",
       "      <th>Day</th>\n",
       "      <th>Day of Week</th>\n",
       "      <th>Hour</th>\n",
       "      <th>Minute</th>\n",
       "      <th>Time Bin</th>\n",
       "      <th>Direction</th>\n",
       "      <th>Volume</th>\n",
       "    </tr>\n",
       "  </thead>\n",
       "  <tbody>\n",
       "    <tr>\n",
       "      <th>0</th>\n",
       "      <td>2021 BLK KINNEY AVE (NW 300ft NW of Lamar)</td>\n",
       "      <td>30.248691</td>\n",
       "      <td>-97.770409</td>\n",
       "      <td>2018</td>\n",
       "      <td>1</td>\n",
       "      <td>23</td>\n",
       "      <td>2</td>\n",
       "      <td>22</td>\n",
       "      <td>15</td>\n",
       "      <td>22:15</td>\n",
       "      <td>None</td>\n",
       "      <td>4</td>\n",
       "    </tr>\n",
       "    <tr>\n",
       "      <th>1</th>\n",
       "      <td>CAPITAL OF TEXAS HWY / LAKEWOOD DR</td>\n",
       "      <td>30.371674</td>\n",
       "      <td>-97.785660</td>\n",
       "      <td>2017</td>\n",
       "      <td>12</td>\n",
       "      <td>16</td>\n",
       "      <td>6</td>\n",
       "      <td>19</td>\n",
       "      <td>45</td>\n",
       "      <td>19:45</td>\n",
       "      <td>NB</td>\n",
       "      <td>103</td>\n",
       "    </tr>\n",
       "    <tr>\n",
       "      <th>2</th>\n",
       "      <td>400 BLK AZIE MORTON RD (South of Barton Spring...</td>\n",
       "      <td>30.264245</td>\n",
       "      <td>-97.765802</td>\n",
       "      <td>2018</td>\n",
       "      <td>1</td>\n",
       "      <td>23</td>\n",
       "      <td>2</td>\n",
       "      <td>21</td>\n",
       "      <td>45</td>\n",
       "      <td>21:45</td>\n",
       "      <td>SB</td>\n",
       "      <td>44</td>\n",
       "    </tr>\n",
       "    <tr>\n",
       "      <th>3</th>\n",
       "      <td>400 BLK AZIE MORTON RD (South of Barton Spring...</td>\n",
       "      <td>30.264245</td>\n",
       "      <td>-97.765802</td>\n",
       "      <td>2018</td>\n",
       "      <td>1</td>\n",
       "      <td>23</td>\n",
       "      <td>2</td>\n",
       "      <td>21</td>\n",
       "      <td>45</td>\n",
       "      <td>21:45</td>\n",
       "      <td>NB</td>\n",
       "      <td>13</td>\n",
       "    </tr>\n",
       "    <tr>\n",
       "      <th>4</th>\n",
       "      <td>2021 BLK KINNEY AVE (NW 300ft NW of Lamar)</td>\n",
       "      <td>30.248691</td>\n",
       "      <td>-97.770409</td>\n",
       "      <td>2018</td>\n",
       "      <td>1</td>\n",
       "      <td>23</td>\n",
       "      <td>2</td>\n",
       "      <td>22</td>\n",
       "      <td>15</td>\n",
       "      <td>22:15</td>\n",
       "      <td>None</td>\n",
       "      <td>0</td>\n",
       "    </tr>\n",
       "  </tbody>\n",
       "</table>\n",
       "</div>"
      ],
      "text/plain": [
       "                                       location_name  location_latitude  \\\n",
       "0         2021 BLK KINNEY AVE (NW 300ft NW of Lamar)          30.248691   \n",
       "1                 CAPITAL OF TEXAS HWY / LAKEWOOD DR          30.371674   \n",
       "2  400 BLK AZIE MORTON RD (South of Barton Spring...          30.264245   \n",
       "3  400 BLK AZIE MORTON RD (South of Barton Spring...          30.264245   \n",
       "4         2021 BLK KINNEY AVE (NW 300ft NW of Lamar)          30.248691   \n",
       "\n",
       "   location_longitude  Year  Month  Day  Day of Week  Hour  Minute Time Bin  \\\n",
       "0          -97.770409  2018      1   23            2    22      15    22:15   \n",
       "1          -97.785660  2017     12   16            6    19      45    19:45   \n",
       "2          -97.765802  2018      1   23            2    21      45    21:45   \n",
       "3          -97.765802  2018      1   23            2    21      45    21:45   \n",
       "4          -97.770409  2018      1   23            2    22      15    22:15   \n",
       "\n",
       "  Direction  Volume  \n",
       "0      None       4  \n",
       "1        NB     103  \n",
       "2        SB      44  \n",
       "3        NB      13  \n",
       "4      None       0  "
      ]
     },
     "execution_count": 60,
     "metadata": {},
     "output_type": "execute_result"
    }
   ],
   "source": [
    "df.head()"
   ]
  },
  {
   "cell_type": "code",
   "execution_count": 58,
   "metadata": {},
   "outputs": [
    {
     "name": "stdout",
     "output_type": "stream",
     "text": [
      "<class 'pandas.core.frame.DataFrame'>\n",
      "<class 'str'>\n"
     ]
    }
   ],
   "source": []
  },
  {
   "cell_type": "code",
   "execution_count": 61,
   "metadata": {},
   "outputs": [],
   "source": [
    "df[\"datetime_time\"]=df.apply(lambda x: datetime.datetime(x.Year,x.Month,x.Day,x.Hour,x.Minute),axis=1)"
   ]
  },
  {
   "cell_type": "code",
   "execution_count": 62,
   "metadata": {},
   "outputs": [
    {
     "data": {
      "text/plain": [
       "Index(['location_name', 'location_latitude', 'location_longitude', 'Year',\n",
       "       'Month', 'Day', 'Day of Week', 'Hour', 'Minute', 'Time Bin',\n",
       "       'Direction', 'Volume', 'datetime_time'],\n",
       "      dtype='object')"
      ]
     },
     "execution_count": 62,
     "metadata": {},
     "output_type": "execute_result"
    }
   ],
   "source": [
    "df.columns"
   ]
  },
  {
   "cell_type": "code",
   "execution_count": 63,
   "metadata": {},
   "outputs": [
    {
     "data": {
      "text/plain": [
       "array(['2018-01-23T22:15:00.000000000', '2017-12-16T19:45:00.000000000',\n",
       "       '2018-01-23T21:45:00.000000000', '2017-12-16T19:30:00.000000000',\n",
       "       '2018-01-23T22:00:00.000000000', '2018-08-13T21:00:00.000000000',\n",
       "       '2018-01-23T22:30:00.000000000', '2018-01-23T22:45:00.000000000',\n",
       "       '2018-01-23T23:00:00.000000000', '2018-02-06T10:45:00.000000000'],\n",
       "      dtype='datetime64[ns]')"
      ]
     },
     "execution_count": 63,
     "metadata": {},
     "output_type": "execute_result"
    }
   ],
   "source": [
    "df[\"datetime_time\"].unique()[:10]"
   ]
  },
  {
   "cell_type": "code",
   "execution_count": 65,
   "metadata": {},
   "outputs": [
    {
     "name": "stdout",
     "output_type": "stream",
     "text": [
      "(23,)\n"
     ]
    }
   ],
   "source": [
    "print(df['location_name'].unique().shape)\n",
    "radar1=df['location_name'].unique()[0]"
   ]
  },
  {
   "cell_type": "code",
   "execution_count": 12,
   "metadata": {},
   "outputs": [
    {
     "data": {
      "text/plain": [
       "'2021 BLK KINNEY AVE (NW 300ft NW of Lamar)'"
      ]
     },
     "execution_count": 12,
     "metadata": {},
     "output_type": "execute_result"
    }
   ],
   "source": [
    "radar1"
   ]
  },
  {
   "cell_type": "code",
   "execution_count": 25,
   "metadata": {},
   "outputs": [
    {
     "data": {
      "text/html": [
       "<div>\n",
       "<style scoped>\n",
       "    .dataframe tbody tr th:only-of-type {\n",
       "        vertical-align: middle;\n",
       "    }\n",
       "\n",
       "    .dataframe tbody tr th {\n",
       "        vertical-align: top;\n",
       "    }\n",
       "\n",
       "    .dataframe thead th {\n",
       "        text-align: right;\n",
       "    }\n",
       "</style>\n",
       "<table border=\"1\" class=\"dataframe\">\n",
       "  <thead>\n",
       "    <tr style=\"text-align: right;\">\n",
       "      <th></th>\n",
       "      <th>Day</th>\n",
       "      <th>Month</th>\n",
       "      <th>Year</th>\n",
       "    </tr>\n",
       "  </thead>\n",
       "  <tbody>\n",
       "    <tr>\n",
       "      <th>0</th>\n",
       "      <td>23</td>\n",
       "      <td>1</td>\n",
       "      <td>2018</td>\n",
       "    </tr>\n",
       "    <tr>\n",
       "      <th>4</th>\n",
       "      <td>23</td>\n",
       "      <td>1</td>\n",
       "      <td>2018</td>\n",
       "    </tr>\n",
       "    <tr>\n",
       "      <th>21</th>\n",
       "      <td>23</td>\n",
       "      <td>1</td>\n",
       "      <td>2018</td>\n",
       "    </tr>\n",
       "    <tr>\n",
       "      <th>67</th>\n",
       "      <td>23</td>\n",
       "      <td>1</td>\n",
       "      <td>2018</td>\n",
       "    </tr>\n",
       "    <tr>\n",
       "      <th>68</th>\n",
       "      <td>23</td>\n",
       "      <td>1</td>\n",
       "      <td>2018</td>\n",
       "    </tr>\n",
       "    <tr>\n",
       "      <th>...</th>\n",
       "      <td>...</td>\n",
       "      <td>...</td>\n",
       "      <td>...</td>\n",
       "    </tr>\n",
       "    <tr>\n",
       "      <th>1483732</th>\n",
       "      <td>12</td>\n",
       "      <td>9</td>\n",
       "      <td>2017</td>\n",
       "    </tr>\n",
       "    <tr>\n",
       "      <th>1483821</th>\n",
       "      <td>12</td>\n",
       "      <td>9</td>\n",
       "      <td>2017</td>\n",
       "    </tr>\n",
       "    <tr>\n",
       "      <th>1483822</th>\n",
       "      <td>12</td>\n",
       "      <td>9</td>\n",
       "      <td>2017</td>\n",
       "    </tr>\n",
       "    <tr>\n",
       "      <th>1483823</th>\n",
       "      <td>12</td>\n",
       "      <td>9</td>\n",
       "      <td>2017</td>\n",
       "    </tr>\n",
       "    <tr>\n",
       "      <th>1483824</th>\n",
       "      <td>12</td>\n",
       "      <td>9</td>\n",
       "      <td>2017</td>\n",
       "    </tr>\n",
       "  </tbody>\n",
       "</table>\n",
       "<p>54432 rows × 3 columns</p>\n",
       "</div>"
      ],
      "text/plain": [
       "         Day  Month  Year\n",
       "0         23      1  2018\n",
       "4         23      1  2018\n",
       "21        23      1  2018\n",
       "67        23      1  2018\n",
       "68        23      1  2018\n",
       "...      ...    ...   ...\n",
       "1483732   12      9  2017\n",
       "1483821   12      9  2017\n",
       "1483822   12      9  2017\n",
       "1483823   12      9  2017\n",
       "1483824   12      9  2017\n",
       "\n",
       "[54432 rows x 3 columns]"
      ]
     },
     "execution_count": 25,
     "metadata": {},
     "output_type": "execute_result"
    }
   ],
   "source": [
    "df[[\"Day\",\"Month\",\"Year\"]][df['location_name']==radar1] #we can seet we have data for each "
   ]
  },
  {
   "cell_type": "code",
   "execution_count": 30,
   "metadata": {},
   "outputs": [
    {
     "data": {
      "text/plain": [
       "array(['22:15', '22:00', '22:30', '22:45', '23:00', '23:15', '23:30',\n",
       "       '23:45', '11:15', '00:00', '00:15', '00:30', '00:45', '01:15',\n",
       "       '01:00', '11:00', '01:30', '02:00', '01:45', '02:15', '02:30',\n",
       "       '02:45', '03:00', '11:30', '03:15', '03:30', '03:45', '04:00',\n",
       "       '04:15', '04:30', '04:45', '11:45', '05:00', '05:15', '05:30',\n",
       "       '05:45', '06:00', '12:00', '06:30', '06:15', '06:45', '07:00',\n",
       "       '07:15', '07:30', '07:45', '08:15', '08:00', '08:30', '12:15',\n",
       "       '08:45', '09:00', '09:15', '09:30', '09:45', '10:00', '10:15',\n",
       "       '12:30', '10:45', '10:30', '12:45', '13:00', '13:15', '13:45',\n",
       "       '13:30', '14:00', '14:30', '14:15', '14:45', '15:00', '15:15',\n",
       "       '15:30', '15:45', '16:00', '16:15', '16:30', '16:45', '17:15',\n",
       "       '17:00', '17:30', '17:45', '18:00', '18:15', '18:30', '19:00',\n",
       "       '18:45', '19:15', '19:30', '19:45', '20:00', '20:15', '20:30',\n",
       "       '20:45', '21:00', '21:30', '21:15', '21:45'], dtype=object)"
      ]
     },
     "execution_count": 30,
     "metadata": {},
     "output_type": "execute_result"
    }
   ],
   "source": [
    "df[\"\"][df['location_name']==radar1].unique()"
   ]
  },
  {
   "cell_type": "code",
   "execution_count": 27,
   "metadata": {},
   "outputs": [],
   "source": [
    "sub_df=df[[\"Hour\",\"Minute\",\"Time Bin\",\"Direction\",\"Volume\"]][(df['location_name']==radar1)|(df[\"Day\"]==23)|(df[\"Month\"]==1)|(df[\"Year\"]==2018)]"
   ]
  },
  {
   "cell_type": "code",
   "execution_count": 28,
   "metadata": {},
   "outputs": [
    {
     "data": {
      "text/html": [
       "<div>\n",
       "<style scoped>\n",
       "    .dataframe tbody tr th:only-of-type {\n",
       "        vertical-align: middle;\n",
       "    }\n",
       "\n",
       "    .dataframe tbody tr th {\n",
       "        vertical-align: top;\n",
       "    }\n",
       "\n",
       "    .dataframe thead th {\n",
       "        text-align: right;\n",
       "    }\n",
       "</style>\n",
       "<table border=\"1\" class=\"dataframe\">\n",
       "  <thead>\n",
       "    <tr style=\"text-align: right;\">\n",
       "      <th></th>\n",
       "      <th>Hour</th>\n",
       "      <th>Minute</th>\n",
       "      <th>Time Bin</th>\n",
       "      <th>Direction</th>\n",
       "      <th>Volume</th>\n",
       "    </tr>\n",
       "  </thead>\n",
       "  <tbody>\n",
       "    <tr>\n",
       "      <th>0</th>\n",
       "      <td>22</td>\n",
       "      <td>15</td>\n",
       "      <td>22:15</td>\n",
       "      <td>None</td>\n",
       "      <td>4</td>\n",
       "    </tr>\n",
       "    <tr>\n",
       "      <th>2</th>\n",
       "      <td>21</td>\n",
       "      <td>45</td>\n",
       "      <td>21:45</td>\n",
       "      <td>SB</td>\n",
       "      <td>44</td>\n",
       "    </tr>\n",
       "    <tr>\n",
       "      <th>3</th>\n",
       "      <td>21</td>\n",
       "      <td>45</td>\n",
       "      <td>21:45</td>\n",
       "      <td>NB</td>\n",
       "      <td>13</td>\n",
       "    </tr>\n",
       "    <tr>\n",
       "      <th>4</th>\n",
       "      <td>22</td>\n",
       "      <td>15</td>\n",
       "      <td>22:15</td>\n",
       "      <td>None</td>\n",
       "      <td>0</td>\n",
       "    </tr>\n",
       "    <tr>\n",
       "      <th>5</th>\n",
       "      <td>22</td>\n",
       "      <td>15</td>\n",
       "      <td>22:15</td>\n",
       "      <td>SB</td>\n",
       "      <td>26</td>\n",
       "    </tr>\n",
       "    <tr>\n",
       "      <th>...</th>\n",
       "      <td>...</td>\n",
       "      <td>...</td>\n",
       "      <td>...</td>\n",
       "      <td>...</td>\n",
       "      <td>...</td>\n",
       "    </tr>\n",
       "    <tr>\n",
       "      <th>4603808</th>\n",
       "      <td>15</td>\n",
       "      <td>15</td>\n",
       "      <td>15:15</td>\n",
       "      <td>None</td>\n",
       "      <td>143</td>\n",
       "    </tr>\n",
       "    <tr>\n",
       "      <th>4603809</th>\n",
       "      <td>15</td>\n",
       "      <td>0</td>\n",
       "      <td>15:00</td>\n",
       "      <td>NB</td>\n",
       "      <td>157</td>\n",
       "    </tr>\n",
       "    <tr>\n",
       "      <th>4603810</th>\n",
       "      <td>9</td>\n",
       "      <td>0</td>\n",
       "      <td>09:00</td>\n",
       "      <td>SB</td>\n",
       "      <td>20</td>\n",
       "    </tr>\n",
       "    <tr>\n",
       "      <th>4603811</th>\n",
       "      <td>3</td>\n",
       "      <td>15</td>\n",
       "      <td>03:15</td>\n",
       "      <td>NB</td>\n",
       "      <td>4</td>\n",
       "    </tr>\n",
       "    <tr>\n",
       "      <th>4603812</th>\n",
       "      <td>0</td>\n",
       "      <td>0</td>\n",
       "      <td>00:00</td>\n",
       "      <td>SB</td>\n",
       "      <td>26</td>\n",
       "    </tr>\n",
       "  </tbody>\n",
       "</table>\n",
       "<p>2351466 rows × 5 columns</p>\n",
       "</div>"
      ],
      "text/plain": [
       "         Hour  Minute Time Bin Direction  Volume\n",
       "0          22      15    22:15      None       4\n",
       "2          21      45    21:45        SB      44\n",
       "3          21      45    21:45        NB      13\n",
       "4          22      15    22:15      None       0\n",
       "5          22      15    22:15        SB      26\n",
       "...       ...     ...      ...       ...     ...\n",
       "4603808    15      15    15:15      None     143\n",
       "4603809    15       0    15:00        NB     157\n",
       "4603810     9       0    09:00        SB      20\n",
       "4603811     3      15    03:15        NB       4\n",
       "4603812     0       0    00:00        SB      26\n",
       "\n",
       "[2351466 rows x 5 columns]"
      ]
     },
     "execution_count": 28,
     "metadata": {},
     "output_type": "execute_result"
    }
   ],
   "source": [
    "sub_df"
   ]
  },
  {
   "cell_type": "code",
   "execution_count": null,
   "metadata": {},
   "outputs": [],
   "source": [
    "# It seems that some radar has collect data with no direction ...\n"
   ]
  },
  {
   "cell_type": "code",
   "execution_count": 39,
   "metadata": {},
   "outputs": [
    {
     "data": {
      "text/html": [
       "<div>\n",
       "<style scoped>\n",
       "    .dataframe tbody tr th:only-of-type {\n",
       "        vertical-align: middle;\n",
       "    }\n",
       "\n",
       "    .dataframe tbody tr th {\n",
       "        vertical-align: top;\n",
       "    }\n",
       "\n",
       "    .dataframe thead th {\n",
       "        text-align: right;\n",
       "    }\n",
       "</style>\n",
       "<table border=\"1\" class=\"dataframe\">\n",
       "  <thead>\n",
       "    <tr style=\"text-align: right;\">\n",
       "      <th></th>\n",
       "      <th>Hour</th>\n",
       "      <th>Minute</th>\n",
       "      <th>Time Bin</th>\n",
       "      <th>Direction</th>\n",
       "      <th>Volume</th>\n",
       "    </tr>\n",
       "  </thead>\n",
       "  <tbody>\n",
       "    <tr>\n",
       "      <th>2</th>\n",
       "      <td>21</td>\n",
       "      <td>45</td>\n",
       "      <td>21:45</td>\n",
       "      <td>SB</td>\n",
       "      <td>44</td>\n",
       "    </tr>\n",
       "    <tr>\n",
       "      <th>3</th>\n",
       "      <td>21</td>\n",
       "      <td>45</td>\n",
       "      <td>21:45</td>\n",
       "      <td>NB</td>\n",
       "      <td>13</td>\n",
       "    </tr>\n",
       "    <tr>\n",
       "      <th>5</th>\n",
       "      <td>22</td>\n",
       "      <td>15</td>\n",
       "      <td>22:15</td>\n",
       "      <td>SB</td>\n",
       "      <td>26</td>\n",
       "    </tr>\n",
       "    <tr>\n",
       "      <th>6</th>\n",
       "      <td>22</td>\n",
       "      <td>15</td>\n",
       "      <td>22:15</td>\n",
       "      <td>SB</td>\n",
       "      <td>31</td>\n",
       "    </tr>\n",
       "    <tr>\n",
       "      <th>7</th>\n",
       "      <td>22</td>\n",
       "      <td>15</td>\n",
       "      <td>22:15</td>\n",
       "      <td>SB</td>\n",
       "      <td>12</td>\n",
       "    </tr>\n",
       "    <tr>\n",
       "      <th>...</th>\n",
       "      <td>...</td>\n",
       "      <td>...</td>\n",
       "      <td>...</td>\n",
       "      <td>...</td>\n",
       "      <td>...</td>\n",
       "    </tr>\n",
       "    <tr>\n",
       "      <th>4603724</th>\n",
       "      <td>5</td>\n",
       "      <td>45</td>\n",
       "      <td>05:45</td>\n",
       "      <td>SB</td>\n",
       "      <td>19</td>\n",
       "    </tr>\n",
       "    <tr>\n",
       "      <th>4603727</th>\n",
       "      <td>5</td>\n",
       "      <td>0</td>\n",
       "      <td>05:00</td>\n",
       "      <td>SB</td>\n",
       "      <td>1</td>\n",
       "    </tr>\n",
       "    <tr>\n",
       "      <th>4603728</th>\n",
       "      <td>0</td>\n",
       "      <td>0</td>\n",
       "      <td>00:00</td>\n",
       "      <td>SB</td>\n",
       "      <td>0</td>\n",
       "    </tr>\n",
       "    <tr>\n",
       "      <th>4603810</th>\n",
       "      <td>9</td>\n",
       "      <td>0</td>\n",
       "      <td>09:00</td>\n",
       "      <td>SB</td>\n",
       "      <td>20</td>\n",
       "    </tr>\n",
       "    <tr>\n",
       "      <th>4603812</th>\n",
       "      <td>0</td>\n",
       "      <td>0</td>\n",
       "      <td>00:00</td>\n",
       "      <td>SB</td>\n",
       "      <td>26</td>\n",
       "    </tr>\n",
       "  </tbody>\n",
       "</table>\n",
       "<p>1086439 rows × 5 columns</p>\n",
       "</div>"
      ],
      "text/plain": [
       "         Hour  Minute Time Bin Direction  Volume\n",
       "2          21      45    21:45        SB      44\n",
       "3          21      45    21:45        NB      13\n",
       "5          22      15    22:15        SB      26\n",
       "6          22      15    22:15        SB      31\n",
       "7          22      15    22:15        SB      12\n",
       "...       ...     ...      ...       ...     ...\n",
       "4603724     5      45    05:45        SB      19\n",
       "4603727     5       0    05:00        SB       1\n",
       "4603728     0       0    00:00        SB       0\n",
       "4603810     9       0    09:00        SB      20\n",
       "4603812     0       0    00:00        SB      26\n",
       "\n",
       "[1086439 rows x 5 columns]"
      ]
     },
     "execution_count": 39,
     "metadata": {},
     "output_type": "execute_result"
    }
   ],
   "source": [
    "sub_df[(sub_df[\"Direction\"]==\"SB\")|(sub_df[\"Hour\"]==21)]"
   ]
  },
  {
   "cell_type": "code",
   "execution_count": 36,
   "metadata": {},
   "outputs": [
    {
     "data": {
      "text/plain": [
       "<AxesSubplot:xlabel='Time Bin'>"
      ]
     },
     "execution_count": 36,
     "metadata": {},
     "output_type": "execute_result"
    },
    {
     "data": {
      "image/png": "[encoded data removed]",
      "text/plain": [
       "<Figure size 432x288 with 1 Axes>"
      ]
     },
     "metadata": {
      "needs_background": "light"
     },
     "output_type": "display_data"
    }
   ],
   "source": [
    "sub_df[(sub_df[\"Direction\"]==\"SB\")].plot(x=\"Time Bin\",y=\"Volume\")"
   ]
  },
  {
   "cell_type": "code",
   "execution_count": null,
   "metadata": {},
   "outputs": [],
   "source": []
  }
 ],
 "metadata": {
  "kernelspec": {
   "display_name": "dl_env",
   "language": "python",
   "name": "dl_env"
  },
  "language_info": {
   "codemirror_mode": {
    "name": "ipython",
    "version": 3
   },
   "file_extension": ".py",
   "mimetype": "text/x-python",
   "name": "python",
   "nbconvert_exporter": "python",
   "pygments_lexer": "ipython3",
   "version": "3.7.9"
  }
 },
 "nbformat": 4,
 "nbformat_minor": 4
}
