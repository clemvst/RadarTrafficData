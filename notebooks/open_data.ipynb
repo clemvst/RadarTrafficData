{
 "cells": [
  {
   "cell_type": "markdown",
   "metadata": {},
   "source": [
    "# Open and visualize the data"
   ]
  },
  {
   "cell_type": "code",
   "execution_count": 1,
   "metadata": {},
   "outputs": [],
   "source": [
    "import pandas as pd\n",
    "import datetime"
   ]
  },
  {
   "cell_type": "code",
   "execution_count": 2,
   "metadata": {},
   "outputs": [],
   "source": [
    "PATH_CSV=\"/Users/iris/Documents/radar_deep/Radar_Traffic_Counts.csv\""
   ]
  },
  {
   "cell_type": "code",
   "execution_count": 3,
   "metadata": {},
   "outputs": [],
   "source": [
    "df=pd.read_csv(PATH_CSV,parse_dates=[3,4,5,9])"
   ]
  },
  {
   "cell_type": "code",
   "execution_count": 4,
   "metadata": {},
   "outputs": [
    {
     "data": {
      "text/html": [
       "<div>\n",
       "<style scoped>\n",
       "    .dataframe tbody tr th:only-of-type {\n",
       "        vertical-align: middle;\n",
       "    }\n",
       "\n",
       "    .dataframe tbody tr th {\n",
       "        vertical-align: top;\n",
       "    }\n",
       "\n",
       "    .dataframe thead th {\n",
       "        text-align: right;\n",
       "    }\n",
       "</style>\n",
       "<table border=\"1\" class=\"dataframe\">\n",
       "  <thead>\n",
       "    <tr style=\"text-align: right;\">\n",
       "      <th></th>\n",
       "      <th>location_name</th>\n",
       "      <th>location_latitude</th>\n",
       "      <th>location_longitude</th>\n",
       "      <th>Year</th>\n",
       "      <th>Month</th>\n",
       "      <th>Day</th>\n",
       "      <th>Day of Week</th>\n",
       "      <th>Hour</th>\n",
       "      <th>Minute</th>\n",
       "      <th>Time Bin</th>\n",
       "      <th>Direction</th>\n",
       "      <th>Volume</th>\n",
       "    </tr>\n",
       "  </thead>\n",
       "  <tbody>\n",
       "    <tr>\n",
       "      <th>0</th>\n",
       "      <td>2021 BLK KINNEY AVE (NW 300ft NW of Lamar)</td>\n",
       "      <td>30.248691</td>\n",
       "      <td>-97.770409</td>\n",
       "      <td>2018-01-01</td>\n",
       "      <td>1</td>\n",
       "      <td>23</td>\n",
       "      <td>2</td>\n",
       "      <td>22</td>\n",
       "      <td>15</td>\n",
       "      <td>2020-11-23 22:15:00</td>\n",
       "      <td>None</td>\n",
       "      <td>4</td>\n",
       "    </tr>\n",
       "    <tr>\n",
       "      <th>1</th>\n",
       "      <td>CAPITAL OF TEXAS HWY / LAKEWOOD DR</td>\n",
       "      <td>30.371674</td>\n",
       "      <td>-97.785660</td>\n",
       "      <td>2017-01-01</td>\n",
       "      <td>12</td>\n",
       "      <td>16</td>\n",
       "      <td>6</td>\n",
       "      <td>19</td>\n",
       "      <td>45</td>\n",
       "      <td>2020-11-23 19:45:00</td>\n",
       "      <td>NB</td>\n",
       "      <td>103</td>\n",
       "    </tr>\n",
       "    <tr>\n",
       "      <th>2</th>\n",
       "      <td>400 BLK AZIE MORTON RD (South of Barton Spring...</td>\n",
       "      <td>30.264245</td>\n",
       "      <td>-97.765802</td>\n",
       "      <td>2018-01-01</td>\n",
       "      <td>1</td>\n",
       "      <td>23</td>\n",
       "      <td>2</td>\n",
       "      <td>21</td>\n",
       "      <td>45</td>\n",
       "      <td>2020-11-23 21:45:00</td>\n",
       "      <td>SB</td>\n",
       "      <td>44</td>\n",
       "    </tr>\n",
       "    <tr>\n",
       "      <th>3</th>\n",
       "      <td>400 BLK AZIE MORTON RD (South of Barton Spring...</td>\n",
       "      <td>30.264245</td>\n",
       "      <td>-97.765802</td>\n",
       "      <td>2018-01-01</td>\n",
       "      <td>1</td>\n",
       "      <td>23</td>\n",
       "      <td>2</td>\n",
       "      <td>21</td>\n",
       "      <td>45</td>\n",
       "      <td>2020-11-23 21:45:00</td>\n",
       "      <td>NB</td>\n",
       "      <td>13</td>\n",
       "    </tr>\n",
       "    <tr>\n",
       "      <th>4</th>\n",
       "      <td>2021 BLK KINNEY AVE (NW 300ft NW of Lamar)</td>\n",
       "      <td>30.248691</td>\n",
       "      <td>-97.770409</td>\n",
       "      <td>2018-01-01</td>\n",
       "      <td>1</td>\n",
       "      <td>23</td>\n",
       "      <td>2</td>\n",
       "      <td>22</td>\n",
       "      <td>15</td>\n",
       "      <td>2020-11-23 22:15:00</td>\n",
       "      <td>None</td>\n",
       "      <td>0</td>\n",
       "    </tr>\n",
       "  </tbody>\n",
       "</table>\n",
       "</div>"
      ],
      "text/plain": [
       "                                       location_name  location_latitude  \\\n",
       "0         2021 BLK KINNEY AVE (NW 300ft NW of Lamar)          30.248691   \n",
       "1                 CAPITAL OF TEXAS HWY / LAKEWOOD DR          30.371674   \n",
       "2  400 BLK AZIE MORTON RD (South of Barton Spring...          30.264245   \n",
       "3  400 BLK AZIE MORTON RD (South of Barton Spring...          30.264245   \n",
       "4         2021 BLK KINNEY AVE (NW 300ft NW of Lamar)          30.248691   \n",
       "\n",
       "   location_longitude       Year Month Day  Day of Week  Hour  Minute  \\\n",
       "0          -97.770409 2018-01-01     1  23            2    22      15   \n",
       "1          -97.785660 2017-01-01    12  16            6    19      45   \n",
       "2          -97.765802 2018-01-01     1  23            2    21      45   \n",
       "3          -97.765802 2018-01-01     1  23            2    21      45   \n",
       "4          -97.770409 2018-01-01     1  23            2    22      15   \n",
       "\n",
       "             Time Bin Direction  Volume  \n",
       "0 2020-11-23 22:15:00      None       4  \n",
       "1 2020-11-23 19:45:00        NB     103  \n",
       "2 2020-11-23 21:45:00        SB      44  \n",
       "3 2020-11-23 21:45:00        NB      13  \n",
       "4 2020-11-23 22:15:00      None       0  "
      ]
     },
     "execution_count": 4,
     "metadata": {},
     "output_type": "execute_result"
    }
   ],
   "source": [
    "df.head()"
   ]
  },
  {
   "cell_type": "code",
   "execution_count": 5,
   "metadata": {},
   "outputs": [],
   "source": [
    "#df[\"datetime_time\"]=df.apply(lambda x: datetime.datetime(x.Year,x.Month,x.Day,x.Hour,x.Minute),axis=1)"
   ]
  },
  {
   "cell_type": "code",
   "execution_count": 6,
   "metadata": {},
   "outputs": [
    {
     "data": {
      "text/plain": [
       "Index(['location_name', 'location_latitude', 'location_longitude', 'Year',\n",
       "       'Month', 'Day', 'Day of Week', 'Hour', 'Minute', 'Time Bin',\n",
       "       'Direction', 'Volume'],\n",
       "      dtype='object')"
      ]
     },
     "execution_count": 6,
     "metadata": {},
     "output_type": "execute_result"
    }
   ],
   "source": [
    "df.columns"
   ]
  },
  {
   "cell_type": "code",
   "execution_count": 7,
   "metadata": {},
   "outputs": [
    {
     "data": {
      "text/plain": [
       "array(['2020-11-23T22:15:00.000000000', '2020-11-23T19:45:00.000000000',\n",
       "       '2020-11-23T21:45:00.000000000', '2020-11-23T19:30:00.000000000',\n",
       "       '2020-11-23T22:00:00.000000000', '2020-11-23T21:00:00.000000000',\n",
       "       '2020-11-23T22:30:00.000000000', '2020-11-23T22:45:00.000000000',\n",
       "       '2020-11-23T23:00:00.000000000', '2020-11-23T10:45:00.000000000'],\n",
       "      dtype='datetime64[ns]')"
      ]
     },
     "execution_count": 7,
     "metadata": {},
     "output_type": "execute_result"
    }
   ],
   "source": [
    "df[\"Time Bin\"].unique()[:10]"
   ]
  },
  {
   "cell_type": "code",
   "execution_count": 8,
   "metadata": {},
   "outputs": [
    {
     "name": "stdout",
     "output_type": "stream",
     "text": [
      "(23,)\n"
     ]
    }
   ],
   "source": [
    "print(df['location_name'].unique().shape)\n",
    "radar1=df['location_name'].unique()[0]"
   ]
  },
  {
   "cell_type": "code",
   "execution_count": 9,
   "metadata": {},
   "outputs": [
    {
     "data": {
      "text/plain": [
       "'2021 BLK KINNEY AVE (NW 300ft NW of Lamar)'"
      ]
     },
     "execution_count": 9,
     "metadata": {},
     "output_type": "execute_result"
    }
   ],
   "source": [
    "radar1"
   ]
  },
  {
   "cell_type": "code",
   "execution_count": 10,
   "metadata": {},
   "outputs": [
    {
     "data": {
      "text/html": [
       "<div>\n",
       "<style scoped>\n",
       "    .dataframe tbody tr th:only-of-type {\n",
       "        vertical-align: middle;\n",
       "    }\n",
       "\n",
       "    .dataframe tbody tr th {\n",
       "        vertical-align: top;\n",
       "    }\n",
       "\n",
       "    .dataframe thead th {\n",
       "        text-align: right;\n",
       "    }\n",
       "</style>\n",
       "<table border=\"1\" class=\"dataframe\">\n",
       "  <thead>\n",
       "    <tr style=\"text-align: right;\">\n",
       "      <th></th>\n",
       "      <th>Day</th>\n",
       "      <th>Month</th>\n",
       "      <th>Year</th>\n",
       "    </tr>\n",
       "  </thead>\n",
       "  <tbody>\n",
       "    <tr>\n",
       "      <th>0</th>\n",
       "      <td>23</td>\n",
       "      <td>1</td>\n",
       "      <td>2018-01-01</td>\n",
       "    </tr>\n",
       "    <tr>\n",
       "      <th>4</th>\n",
       "      <td>23</td>\n",
       "      <td>1</td>\n",
       "      <td>2018-01-01</td>\n",
       "    </tr>\n",
       "    <tr>\n",
       "      <th>21</th>\n",
       "      <td>23</td>\n",
       "      <td>1</td>\n",
       "      <td>2018-01-01</td>\n",
       "    </tr>\n",
       "    <tr>\n",
       "      <th>67</th>\n",
       "      <td>23</td>\n",
       "      <td>1</td>\n",
       "      <td>2018-01-01</td>\n",
       "    </tr>\n",
       "    <tr>\n",
       "      <th>68</th>\n",
       "      <td>23</td>\n",
       "      <td>1</td>\n",
       "      <td>2018-01-01</td>\n",
       "    </tr>\n",
       "    <tr>\n",
       "      <th>...</th>\n",
       "      <td>...</td>\n",
       "      <td>...</td>\n",
       "      <td>...</td>\n",
       "    </tr>\n",
       "    <tr>\n",
       "      <th>1483732</th>\n",
       "      <td>12</td>\n",
       "      <td>9</td>\n",
       "      <td>2017-01-01</td>\n",
       "    </tr>\n",
       "    <tr>\n",
       "      <th>1483821</th>\n",
       "      <td>12</td>\n",
       "      <td>9</td>\n",
       "      <td>2017-01-01</td>\n",
       "    </tr>\n",
       "    <tr>\n",
       "      <th>1483822</th>\n",
       "      <td>12</td>\n",
       "      <td>9</td>\n",
       "      <td>2017-01-01</td>\n",
       "    </tr>\n",
       "    <tr>\n",
       "      <th>1483823</th>\n",
       "      <td>12</td>\n",
       "      <td>9</td>\n",
       "      <td>2017-01-01</td>\n",
       "    </tr>\n",
       "    <tr>\n",
       "      <th>1483824</th>\n",
       "      <td>12</td>\n",
       "      <td>9</td>\n",
       "      <td>2017-01-01</td>\n",
       "    </tr>\n",
       "  </tbody>\n",
       "</table>\n",
       "<p>54432 rows × 3 columns</p>\n",
       "</div>"
      ],
      "text/plain": [
       "        Day Month       Year\n",
       "0        23     1 2018-01-01\n",
       "4        23     1 2018-01-01\n",
       "21       23     1 2018-01-01\n",
       "67       23     1 2018-01-01\n",
       "68       23     1 2018-01-01\n",
       "...      ..   ...        ...\n",
       "1483732  12     9 2017-01-01\n",
       "1483821  12     9 2017-01-01\n",
       "1483822  12     9 2017-01-01\n",
       "1483823  12     9 2017-01-01\n",
       "1483824  12     9 2017-01-01\n",
       "\n",
       "[54432 rows x 3 columns]"
      ]
     },
     "execution_count": 10,
     "metadata": {},
     "output_type": "execute_result"
    }
   ],
   "source": [
    "df[[\"Day\",\"Month\",\"Year\"]][df['location_name']==radar1] #we can seet we have data for each "
   ]
  },
  {
   "cell_type": "code",
   "execution_count": 11,
   "metadata": {},
   "outputs": [
    {
     "data": {
      "text/plain": [
       "array(['2020-11-23T22:15:00.000000000', '2020-11-23T22:00:00.000000000',\n",
       "       '2020-11-23T22:30:00.000000000', '2020-11-23T22:45:00.000000000',\n",
       "       '2020-11-23T23:00:00.000000000', '2020-11-23T23:15:00.000000000',\n",
       "       '2020-11-23T23:30:00.000000000', '2020-11-23T23:45:00.000000000',\n",
       "       '2020-11-23T11:15:00.000000000', '2020-11-23T00:00:00.000000000',\n",
       "       '2020-11-23T00:15:00.000000000', '2020-11-23T00:30:00.000000000',\n",
       "       '2020-11-23T00:45:00.000000000', '2020-11-23T01:15:00.000000000',\n",
       "       '2020-11-23T01:00:00.000000000', '2020-11-23T11:00:00.000000000',\n",
       "       '2020-11-23T01:30:00.000000000', '2020-11-23T02:00:00.000000000',\n",
       "       '2020-11-23T01:45:00.000000000', '2020-11-23T02:15:00.000000000',\n",
       "       '2020-11-23T02:30:00.000000000', '2020-11-23T02:45:00.000000000',\n",
       "       '2020-11-23T03:00:00.000000000', '2020-11-23T11:30:00.000000000',\n",
       "       '2020-11-23T03:15:00.000000000', '2020-11-23T03:30:00.000000000',\n",
       "       '2020-11-23T03:45:00.000000000', '2020-11-23T04:00:00.000000000',\n",
       "       '2020-11-23T04:15:00.000000000', '2020-11-23T04:30:00.000000000',\n",
       "       '2020-11-23T04:45:00.000000000', '2020-11-23T11:45:00.000000000',\n",
       "       '2020-11-23T05:00:00.000000000', '2020-11-23T05:15:00.000000000',\n",
       "       '2020-11-23T05:30:00.000000000', '2020-11-23T05:45:00.000000000',\n",
       "       '2020-11-23T06:00:00.000000000', '2020-11-23T12:00:00.000000000',\n",
       "       '2020-11-23T06:30:00.000000000', '2020-11-23T06:15:00.000000000',\n",
       "       '2020-11-23T06:45:00.000000000', '2020-11-23T07:00:00.000000000',\n",
       "       '2020-11-23T07:15:00.000000000', '2020-11-23T07:30:00.000000000',\n",
       "       '2020-11-23T07:45:00.000000000', '2020-11-23T08:15:00.000000000',\n",
       "       '2020-11-23T08:00:00.000000000', '2020-11-23T08:30:00.000000000',\n",
       "       '2020-11-23T12:15:00.000000000', '2020-11-23T08:45:00.000000000',\n",
       "       '2020-11-23T09:00:00.000000000', '2020-11-23T09:15:00.000000000',\n",
       "       '2020-11-23T09:30:00.000000000', '2020-11-23T09:45:00.000000000',\n",
       "       '2020-11-23T10:00:00.000000000', '2020-11-23T10:15:00.000000000',\n",
       "       '2020-11-23T12:30:00.000000000', '2020-11-23T10:45:00.000000000',\n",
       "       '2020-11-23T10:30:00.000000000', '2020-11-23T12:45:00.000000000',\n",
       "       '2020-11-23T13:00:00.000000000', '2020-11-23T13:15:00.000000000',\n",
       "       '2020-11-23T13:45:00.000000000', '2020-11-23T13:30:00.000000000',\n",
       "       '2020-11-23T14:00:00.000000000', '2020-11-23T14:30:00.000000000',\n",
       "       '2020-11-23T14:15:00.000000000', '2020-11-23T14:45:00.000000000',\n",
       "       '2020-11-23T15:00:00.000000000', '2020-11-23T15:15:00.000000000',\n",
       "       '2020-11-23T15:30:00.000000000', '2020-11-23T15:45:00.000000000',\n",
       "       '2020-11-23T16:00:00.000000000', '2020-11-23T16:15:00.000000000',\n",
       "       '2020-11-23T16:30:00.000000000', '2020-11-23T16:45:00.000000000',\n",
       "       '2020-11-23T17:15:00.000000000', '2020-11-23T17:00:00.000000000',\n",
       "       '2020-11-23T17:30:00.000000000', '2020-11-23T17:45:00.000000000',\n",
       "       '2020-11-23T18:00:00.000000000', '2020-11-23T18:15:00.000000000',\n",
       "       '2020-11-23T18:30:00.000000000', '2020-11-23T19:00:00.000000000',\n",
       "       '2020-11-23T18:45:00.000000000', '2020-11-23T19:15:00.000000000',\n",
       "       '2020-11-23T19:30:00.000000000', '2020-11-23T19:45:00.000000000',\n",
       "       '2020-11-23T20:00:00.000000000', '2020-11-23T20:15:00.000000000',\n",
       "       '2020-11-23T20:30:00.000000000', '2020-11-23T20:45:00.000000000',\n",
       "       '2020-11-23T21:00:00.000000000', '2020-11-23T21:30:00.000000000',\n",
       "       '2020-11-23T21:15:00.000000000', '2020-11-23T21:45:00.000000000'],\n",
       "      dtype='datetime64[ns]')"
      ]
     },
     "execution_count": 11,
     "metadata": {},
     "output_type": "execute_result"
    }
   ],
   "source": [
    "df[\"Time Bin\"][df['location_name']==radar1].unique()"
   ]
  },
  {
   "cell_type": "code",
   "execution_count": 12,
   "metadata": {},
   "outputs": [],
   "source": [
    "sub_df=df[[\"Time Bin\",\"Direction\",\"Volume\"]][(df['location_name']==radar1)]"
   ]
  },
  {
   "cell_type": "code",
   "execution_count": 20,
   "metadata": {},
   "outputs": [
    {
     "data": {
      "text/plain": [
       "array(['None'], dtype=object)"
      ]
     },
     "execution_count": 20,
     "metadata": {},
     "output_type": "execute_result"
    }
   ],
   "source": [
    "sub_df[\"Direction\"].unique()"
   ]
  },
  {
   "cell_type": "code",
   "execution_count": 14,
   "metadata": {},
   "outputs": [
    {
     "data": {
      "text/plain": [
       "datetime.date(2018, 1, 23)"
      ]
     },
     "execution_count": 14,
     "metadata": {},
     "output_type": "execute_result"
    }
   ],
   "source": [
    "datetime.date(2018,1,23)"
   ]
  },
  {
   "cell_type": "code",
   "execution_count": 15,
   "metadata": {},
   "outputs": [
    {
     "name": "stdout",
     "output_type": "stream",
     "text": [
      "<class 'pandas._libs.tslibs.timestamps.Timestamp'>\n"
     ]
    }
   ],
   "source": [
    "print(type(sub_df[\"Time Bin\"].iloc[0]))"
   ]
  },
  {
   "cell_type": "code",
   "execution_count": 16,
   "metadata": {},
   "outputs": [
    {
     "data": {
      "text/plain": [
       "datetime.date(2018, 1, 23)"
      ]
     },
     "execution_count": 16,
     "metadata": {},
     "output_type": "execute_result"
    }
   ],
   "source": [
    "pd.Timestamp(year=2018,month=1,day=23,unit=\"D\").date()"
   ]
  },
  {
   "cell_type": "code",
   "execution_count": 17,
   "metadata": {},
   "outputs": [
    {
     "data": {
      "text/html": [
       "<div>\n",
       "<style scoped>\n",
       "    .dataframe tbody tr th:only-of-type {\n",
       "        vertical-align: middle;\n",
       "    }\n",
       "\n",
       "    .dataframe tbody tr th {\n",
       "        vertical-align: top;\n",
       "    }\n",
       "\n",
       "    .dataframe thead th {\n",
       "        text-align: right;\n",
       "    }\n",
       "</style>\n",
       "<table border=\"1\" class=\"dataframe\">\n",
       "  <thead>\n",
       "    <tr style=\"text-align: right;\">\n",
       "      <th></th>\n",
       "      <th>Time Bin</th>\n",
       "      <th>Direction</th>\n",
       "      <th>Volume</th>\n",
       "    </tr>\n",
       "  </thead>\n",
       "  <tbody>\n",
       "    <tr>\n",
       "      <th>0</th>\n",
       "      <td>2020-11-23 22:15:00</td>\n",
       "      <td>None</td>\n",
       "      <td>4</td>\n",
       "    </tr>\n",
       "    <tr>\n",
       "      <th>4</th>\n",
       "      <td>2020-11-23 22:15:00</td>\n",
       "      <td>None</td>\n",
       "      <td>0</td>\n",
       "    </tr>\n",
       "    <tr>\n",
       "      <th>21</th>\n",
       "      <td>2020-11-23 22:15:00</td>\n",
       "      <td>None</td>\n",
       "      <td>3</td>\n",
       "    </tr>\n",
       "    <tr>\n",
       "      <th>67</th>\n",
       "      <td>2020-11-23 22:00:00</td>\n",
       "      <td>None</td>\n",
       "      <td>4</td>\n",
       "    </tr>\n",
       "    <tr>\n",
       "      <th>68</th>\n",
       "      <td>2020-11-23 22:00:00</td>\n",
       "      <td>None</td>\n",
       "      <td>1</td>\n",
       "    </tr>\n",
       "    <tr>\n",
       "      <th>...</th>\n",
       "      <td>...</td>\n",
       "      <td>...</td>\n",
       "      <td>...</td>\n",
       "    </tr>\n",
       "    <tr>\n",
       "      <th>1483732</th>\n",
       "      <td>2020-11-23 10:45:00</td>\n",
       "      <td>None</td>\n",
       "      <td>5</td>\n",
       "    </tr>\n",
       "    <tr>\n",
       "      <th>1483821</th>\n",
       "      <td>2020-11-23 10:30:00</td>\n",
       "      <td>None</td>\n",
       "      <td>12</td>\n",
       "    </tr>\n",
       "    <tr>\n",
       "      <th>1483822</th>\n",
       "      <td>2020-11-23 10:30:00</td>\n",
       "      <td>None</td>\n",
       "      <td>2</td>\n",
       "    </tr>\n",
       "    <tr>\n",
       "      <th>1483823</th>\n",
       "      <td>2020-11-23 10:30:00</td>\n",
       "      <td>None</td>\n",
       "      <td>5</td>\n",
       "    </tr>\n",
       "    <tr>\n",
       "      <th>1483824</th>\n",
       "      <td>2020-11-23 10:30:00</td>\n",
       "      <td>None</td>\n",
       "      <td>5</td>\n",
       "    </tr>\n",
       "  </tbody>\n",
       "</table>\n",
       "<p>54432 rows × 3 columns</p>\n",
       "</div>"
      ],
      "text/plain": [
       "                   Time Bin Direction  Volume\n",
       "0       2020-11-23 22:15:00      None       4\n",
       "4       2020-11-23 22:15:00      None       0\n",
       "21      2020-11-23 22:15:00      None       3\n",
       "67      2020-11-23 22:00:00      None       4\n",
       "68      2020-11-23 22:00:00      None       1\n",
       "...                     ...       ...     ...\n",
       "1483732 2020-11-23 10:45:00      None       5\n",
       "1483821 2020-11-23 10:30:00      None      12\n",
       "1483822 2020-11-23 10:30:00      None       2\n",
       "1483823 2020-11-23 10:30:00      None       5\n",
       "1483824 2020-11-23 10:30:00      None       5\n",
       "\n",
       "[54432 rows x 3 columns]"
      ]
     },
     "execution_count": 17,
     "metadata": {},
     "output_type": "execute_result"
    }
   ],
   "source": [
    "sub_df.rename({\"Time Bin\":\"date\"})"
   ]
  },
  {
   "cell_type": "code",
   "execution_count": 18,
   "metadata": {},
   "outputs": [
    {
     "data": {
      "text/html": [
       "<div>\n",
       "<style scoped>\n",
       "    .dataframe tbody tr th:only-of-type {\n",
       "        vertical-align: middle;\n",
       "    }\n",
       "\n",
       "    .dataframe tbody tr th {\n",
       "        vertical-align: top;\n",
       "    }\n",
       "\n",
       "    .dataframe thead th {\n",
       "        text-align: right;\n",
       "    }\n",
       "</style>\n",
       "<table border=\"1\" class=\"dataframe\">\n",
       "  <thead>\n",
       "    <tr style=\"text-align: right;\">\n",
       "      <th></th>\n",
       "      <th>Time Bin</th>\n",
       "      <th>Direction</th>\n",
       "      <th>Volume</th>\n",
       "    </tr>\n",
       "  </thead>\n",
       "  <tbody>\n",
       "    <tr>\n",
       "      <th>0</th>\n",
       "      <td>2020-11-23 22:15:00</td>\n",
       "      <td>None</td>\n",
       "      <td>4</td>\n",
       "    </tr>\n",
       "    <tr>\n",
       "      <th>4</th>\n",
       "      <td>2020-11-23 22:15:00</td>\n",
       "      <td>None</td>\n",
       "      <td>0</td>\n",
       "    </tr>\n",
       "    <tr>\n",
       "      <th>21</th>\n",
       "      <td>2020-11-23 22:15:00</td>\n",
       "      <td>None</td>\n",
       "      <td>3</td>\n",
       "    </tr>\n",
       "    <tr>\n",
       "      <th>67</th>\n",
       "      <td>2020-11-23 22:00:00</td>\n",
       "      <td>None</td>\n",
       "      <td>4</td>\n",
       "    </tr>\n",
       "    <tr>\n",
       "      <th>68</th>\n",
       "      <td>2020-11-23 22:00:00</td>\n",
       "      <td>None</td>\n",
       "      <td>1</td>\n",
       "    </tr>\n",
       "    <tr>\n",
       "      <th>...</th>\n",
       "      <td>...</td>\n",
       "      <td>...</td>\n",
       "      <td>...</td>\n",
       "    </tr>\n",
       "    <tr>\n",
       "      <th>1483732</th>\n",
       "      <td>2020-11-23 10:45:00</td>\n",
       "      <td>None</td>\n",
       "      <td>5</td>\n",
       "    </tr>\n",
       "    <tr>\n",
       "      <th>1483821</th>\n",
       "      <td>2020-11-23 10:30:00</td>\n",
       "      <td>None</td>\n",
       "      <td>12</td>\n",
       "    </tr>\n",
       "    <tr>\n",
       "      <th>1483822</th>\n",
       "      <td>2020-11-23 10:30:00</td>\n",
       "      <td>None</td>\n",
       "      <td>2</td>\n",
       "    </tr>\n",
       "    <tr>\n",
       "      <th>1483823</th>\n",
       "      <td>2020-11-23 10:30:00</td>\n",
       "      <td>None</td>\n",
       "      <td>5</td>\n",
       "    </tr>\n",
       "    <tr>\n",
       "      <th>1483824</th>\n",
       "      <td>2020-11-23 10:30:00</td>\n",
       "      <td>None</td>\n",
       "      <td>5</td>\n",
       "    </tr>\n",
       "  </tbody>\n",
       "</table>\n",
       "<p>54432 rows × 3 columns</p>\n",
       "</div>"
      ],
      "text/plain": [
       "                   Time Bin Direction  Volume\n",
       "0       2020-11-23 22:15:00      None       4\n",
       "4       2020-11-23 22:15:00      None       0\n",
       "21      2020-11-23 22:15:00      None       3\n",
       "67      2020-11-23 22:00:00      None       4\n",
       "68      2020-11-23 22:00:00      None       1\n",
       "...                     ...       ...     ...\n",
       "1483732 2020-11-23 10:45:00      None       5\n",
       "1483821 2020-11-23 10:30:00      None      12\n",
       "1483822 2020-11-23 10:30:00      None       2\n",
       "1483823 2020-11-23 10:30:00      None       5\n",
       "1483824 2020-11-23 10:30:00      None       5\n",
       "\n",
       "[54432 rows x 3 columns]"
      ]
     },
     "execution_count": 18,
     "metadata": {},
     "output_type": "execute_result"
    }
   ],
   "source": [
    "sub_df"
   ]
  },
  {
   "cell_type": "code",
   "execution_count": 19,
   "metadata": {},
   "outputs": [
    {
     "ename": "SyntaxError",
     "evalue": "invalid syntax (<ipython-input-19-27924d599862>, line 1)",
     "output_type": "error",
     "traceback": [
      "\u001b[0;36m  File \u001b[0;32m\"<ipython-input-19-27924d599862>\"\u001b[0;36m, line \u001b[0;32m1\u001b[0m\n\u001b[0;31m    sub_df[sub_df.apply(lambda x: x[\"Time Bin\"].date()][pd.Timestamp(year=2018,month=1,day=23).date()]\u001b[0m\n\u001b[0m                                                      ^\u001b[0m\n\u001b[0;31mSyntaxError\u001b[0m\u001b[0;31m:\u001b[0m invalid syntax\n"
     ]
    }
   ],
   "source": [
    "sub_df[sub_df.apply(lambda x: x[\"Time Bin\"].date()][pd.Timestamp(year=2018,month=1,day=23).date()]"
   ]
  },
  {
   "cell_type": "code",
   "execution_count": null,
   "metadata": {},
   "outputs": [],
   "source": [
    "sub_df.sort_values(\"datetime_time\")"
   ]
  },
  {
   "cell_type": "code",
   "execution_count": null,
   "metadata": {},
   "outputs": [],
   "source": [
    "# It seems that some radar has collect data with no direction ...\n"
   ]
  },
  {
   "cell_type": "code",
   "execution_count": null,
   "metadata": {},
   "outputs": [],
   "source": [
    "sub_df[(sub_df[\"Direction\"]==\"SB\")|(sub_df[\"Hour\"]==21)]"
   ]
  },
  {
   "cell_type": "code",
   "execution_count": null,
   "metadata": {},
   "outputs": [],
   "source": [
    "sub_df[(sub_df[\"Direction\"]==\"SB\")].plot(x=\"Time Bin\",y=\"Volume\")"
   ]
  },
  {
   "cell_type": "code",
   "execution_count": null,
   "metadata": {},
   "outputs": [],
   "source": []
  }
 ],
 "metadata": {
  "kernelspec": {
   "display_name": "dl_env",
   "language": "python",
   "name": "dl_env"
  },
  "language_info": {
   "codemirror_mode": {
    "name": "ipython",
    "version": 3
   },
   "file_extension": ".py",
   "mimetype": "text/x-python",
   "name": "python",
   "nbconvert_exporter": "python",
   "pygments_lexer": "ipython3",
   "version": "3.7.9"
  }
 },
 "nbformat": 4,
 "nbformat_minor": 4
}
